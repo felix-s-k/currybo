{
 "cells": [
  {
   "cell_type": "code",
   "execution_count": 1,
   "metadata": {},
   "outputs": [],
   "source": [
    "import pandas as pd\n",
    "import matplotlib.pyplot as plt\n",
    "import numpy as np\n",
    "\n",
    "original_dataset = pd.read_csv('Cernak_original.csv')\n",
    "original_dataset.drop(columns=['Electrophile', 'Product'], inplace=True)\n",
    "\n",
    "original_dataset['Conversion'] = original_dataset['Conversion'] / 100\n",
    "\n",
    "original_dataset.to_csv('Cernak_cleaned.csv', index=False)"
   ]
  },
  {
   "cell_type": "code",
   "execution_count": 2,
   "metadata": {},
   "outputs": [],
   "source": [
    "from rdkit import Chem\n",
    "from rdkit.Chem import AllChem\n",
    "from rdkit.Chem import rdFingerprintGenerator\n",
    "from sklearn.ensemble import RandomForestRegressor\n",
    "from sklearn.metrics import root_mean_squared_error, mean_absolute_error\n",
    "import pickle\n",
    "import torch\n",
    "\n",
    "\n",
    "# Function to convert SMILES to Morgan Fingerprint\n",
    "def smiles_to_fingerprint(smiles, radius=2, n_bits=1024):\n",
    "    if smiles is np.nan:\n",
    "        return torch.zeros(n_bits, dtype=torch.float64)\n",
    "    mol = Chem.MolFromSmiles(smiles)\n",
    "    if mol is None:\n",
    "        return torch.zeros(n_bits, dtype=torch.float64)\n",
    "    #fp = AllChem.GetMorganFingerprintAsBitVect(mol, radius, nBits=n_bits)\n",
    "    mfpgen = rdFingerprintGenerator.GetMorganGenerator(radius=radius, fpSize=n_bits)\n",
    "    fp = mfpgen.GetFingerprint(mol)\n",
    "    return torch.tensor(fp, dtype=torch.float64)"
   ]
  },
  {
   "cell_type": "code",
   "execution_count": 3,
   "metadata": {},
   "outputs": [
    {
     "name": "stdout",
     "output_type": "stream",
     "text": [
      "(1536, 3072)\n",
      "Root Mean Squared Error: 0.008747582672686749, Mean Absolute Error: 0.003164011653645854\n"
     ]
    }
   ],
   "source": [
    "fingerprints = []\n",
    "for idx, row in original_dataset.iterrows():\n",
    "    catalyst_fp = smiles_to_fingerprint(row['Catalyst'])\n",
    "    base_fp = smiles_to_fingerprint(row['Base'])\n",
    "    nuc_fp = smiles_to_fingerprint(row['Nucleophile'])\n",
    "    combined_fp = np.concatenate([catalyst_fp, base_fp, nuc_fp])\n",
    "    fingerprints.append(combined_fp)\n",
    "\n",
    "X = np.array(fingerprints)\n",
    "y = original_dataset['Conversion'].values\n",
    "print(X.shape)\n",
    "model = RandomForestRegressor(n_estimators=1000, random_state=12)\n",
    "model.fit(X, y)\n",
    "\n",
    "# Evaluate the model\n",
    "y_pred = model.predict(X)\n",
    "rmse = root_mean_squared_error(y, y_pred)\n",
    "mae = mean_absolute_error(y, y_pred)\n",
    "print(f'Root Mean Squared Error: {rmse}, Mean Absolute Error: {mae}')\n",
    "\n",
    "# Save the trained model\n",
    "with open('Cernak.pkl', 'wb') as f:\n",
    "    pickle.dump(model, f)"
   ]
  }
 ],
 "metadata": {
  "kernelspec": {
   "display_name": "genbo",
   "language": "python",
   "name": "python3"
  },
  "language_info": {
   "codemirror_mode": {
    "name": "ipython",
    "version": 3
   },
   "file_extension": ".py",
   "mimetype": "text/x-python",
   "name": "python",
   "nbconvert_exporter": "python",
   "pygments_lexer": "ipython3",
   "version": "3.12.5"
  }
 },
 "nbformat": 4,
 "nbformat_minor": 2
}
