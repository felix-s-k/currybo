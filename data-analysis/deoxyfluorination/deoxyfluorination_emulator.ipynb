{
 "cells": [
  {
   "cell_type": "code",
   "execution_count": 3,
   "metadata": {},
   "outputs": [],
   "source": [
    "import pandas as pd\n",
    "import matplotlib.pyplot as plt\n",
    "import numpy as np\n",
    "\n",
    "original_dataset = pd.read_csv('deoxyfluorination_original.csv')\n",
    "original_dataset.drop(columns=['base_name', 'fluoride_name', 'substrate_name'], inplace=True)\n",
    "\n",
    "new_order = ['substrate_smiles', 'base_smiles', 'fluoride_smiles']\n",
    "new_names = ['substrate', 'base', 'fluoride']\n",
    "original_dataset = original_dataset[new_order + [col for col in original_dataset.columns if col not in new_order]]\n",
    "original_dataset.columns = new_names + [col for col in original_dataset.columns if col not in new_order]\n",
    "\n",
    "original_dataset['yield'] = original_dataset['yield'] / 100\n",
    "\n",
    "original_dataset.to_csv('deoxyfluorination_cleaned.csv', index=False)\n"
   ]
  },
  {
   "cell_type": "code",
   "execution_count": 4,
   "metadata": {},
   "outputs": [],
   "source": [
    "from rdkit import Chem\n",
    "from rdkit.Chem import AllChem\n",
    "from rdkit.Chem import rdFingerprintGenerator\n",
    "from sklearn.ensemble import RandomForestRegressor\n",
    "from sklearn.metrics import root_mean_squared_error, mean_absolute_error\n",
    "import pickle\n",
    "import torch\n",
    "\n",
    "\n",
    "# Function to convert SMILES to Morgan Fingerprint\n",
    "def smiles_to_fingerprint(smiles, radius=2, n_bits=1024):\n",
    "    if smiles is np.nan:\n",
    "        return torch.zeros(n_bits, dtype=torch.float64)\n",
    "    mol = Chem.MolFromSmiles(smiles)\n",
    "    if mol is None:\n",
    "        return torch.zeros(n_bits, dtype=torch.float64)\n",
    "    #fp = AllChem.GetMorganFingerprintAsBitVect(mol, radius, nBits=n_bits)\n",
    "    mfpgen = rdFingerprintGenerator.GetMorganGenerator(radius=radius, fpSize=n_bits)\n",
    "    fp = mfpgen.GetFingerprint(mol)\n",
    "    return torch.tensor(fp, dtype=torch.float64)"
   ]
  },
  {
   "cell_type": "code",
   "execution_count": 5,
   "metadata": {},
   "outputs": [
    {
     "name": "stdout",
     "output_type": "stream",
     "text": [
      "(740, 3072)\n",
      "Root Mean Squared Error: 0.03375579979528082, Mean Absolute Error: 0.02128952565422535\n"
     ]
    }
   ],
   "source": [
    "fingerprints = []\n",
    "for idx, row in original_dataset.iterrows():\n",
    "    base_fp = smiles_to_fingerprint(row['base'])\n",
    "    fluoride_fp = smiles_to_fingerprint(row['fluoride'])\n",
    "    substrate_fp = smiles_to_fingerprint(row['substrate'])\n",
    "    combined_fp = np.concatenate([base_fp, fluoride_fp, substrate_fp])\n",
    "    fingerprints.append(combined_fp)\n",
    "\n",
    "X = np.array(fingerprints)\n",
    "y = original_dataset['yield'].values\n",
    "print(X.shape)\n",
    "model = RandomForestRegressor(n_estimators=1000, random_state=12)\n",
    "model.fit(X, y)\n",
    "\n",
    "# Evaluate the model\n",
    "y_pred = model.predict(X)\n",
    "rmse = root_mean_squared_error(y, y_pred)\n",
    "mae = mean_absolute_error(y, y_pred)\n",
    "print(f'Root Mean Squared Error: {rmse}, Mean Absolute Error: {mae}')\n",
    "\n",
    "# Save the trained model\n",
    "with open('deoxyfluorination.pkl', 'wb') as f:\n",
    "    pickle.dump(model, f)"
   ]
  }
 ],
 "metadata": {
  "kernelspec": {
   "display_name": "genbo",
   "language": "python",
   "name": "python3"
  },
  "language_info": {
   "codemirror_mode": {
    "name": "ipython",
    "version": 3
   },
   "file_extension": ".py",
   "mimetype": "text/x-python",
   "name": "python",
   "nbconvert_exporter": "python",
   "pygments_lexer": "ipython3",
   "version": "3.12.5"
  }
 },
 "nbformat": 4,
 "nbformat_minor": 2
}
